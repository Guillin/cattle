{
 "cells": [
  {
   "cell_type": "code",
   "execution_count": 1,
   "metadata": {},
   "outputs": [],
   "source": [
    "import torch.utils.data as utils"
   ]
  },
  {
   "cell_type": "code",
   "execution_count": 2,
   "metadata": {},
   "outputs": [],
   "source": [
    "import torch\n",
    "import torch.nn as nn\n",
    "import torchvision.transforms as transforms\n",
    "import torchvision.datasets as dsets\n",
    "from torch.autograd import Variable\n",
    "\n",
    "from torch.optim import lr_scheduler\n",
    "\n",
    "from sklearn.metrics import balanced_accuracy_score\n",
    "\n",
    "from torch.utils.data import Dataset, DataLoader\n",
    "\n",
    "import pandas as pd\n",
    "import pickle\n",
    "\n",
    "import numpy as np\n",
    "\n",
    "from barbar import Bar\n",
    "\n",
    "import time\n",
    "\n",
    "%matplotlib inline \n",
    "import matplotlib.pyplot as plt"
   ]
  },
  {
   "cell_type": "code",
   "execution_count": 3,
   "metadata": {},
   "outputs": [
    {
     "data": {
      "text/plain": [
       "<torch._C.Generator at 0x7fae3c181770>"
      ]
     },
     "execution_count": 3,
     "metadata": {},
     "output_type": "execute_result"
    }
   ],
   "source": [
    "torch.manual_seed(27)"
   ]
  },
  {
   "cell_type": "code",
   "execution_count": 4,
   "metadata": {},
   "outputs": [],
   "source": [
    "def plot_acc(history):\n",
    "    fig, axarr = plt.subplots(figsize=(12,6), ncols=2)\n",
    "    axarr[0].plot(range(0, len(history)), history['acc'], label='train score')\n",
    "    axarr[0].plot(range(0, len(history)), history['val_acc'], label='test score')\n",
    "    axarr[0].set_xlabel('Number of Epochs', fontsize=18)\n",
    "    axarr[0].set_ylabel('Accuracy', fontsize=18)\n",
    "    axarr[0].set_ylim([0,1])\n",
    "    axarr[1].plot(range(0, len(history)), history['acc'], label='train score')\n",
    "    axarr[1].plot(range(0, len(history)), history['val_acc'], label='test score')\n",
    "    axarr[1].set_xlabel('Number of Epochs', fontsize=18)\n",
    "    axarr[1].set_ylabel('Accuracy', fontsize=18)\n",
    "    axarr[1].set_ylim([0.7,1])\n",
    "    plt.legend()\n",
    "    plt.show()"
   ]
  },
  {
   "cell_type": "code",
   "execution_count": 5,
   "metadata": {},
   "outputs": [],
   "source": [
    "DATAPATH = 'data/features/'\n",
    "MODELPATH = 'output/models/'"
   ]
  },
  {
   "cell_type": "markdown",
   "metadata": {},
   "source": [
    "### STEP 2: LOADING DATASET "
   ]
  },
  {
   "cell_type": "code",
   "execution_count": 6,
   "metadata": {},
   "outputs": [],
   "source": [
    "class CattleSoundDataset(Dataset):\n",
    "    \"\"\" FreeSound dataset.\"\"\"\n",
    "\n",
    "    # Initialize your data, download, etc.\n",
    "    def __init__(self, X, y):\n",
    "        \n",
    "        self.len = X.shape[0]\n",
    "        self.x_data = torch.from_numpy(X)\n",
    "        self.y_data = torch.from_numpy(y)\n",
    "\n",
    "    def __getitem__(self, index):\n",
    "        return (self.x_data[index], self.y_data[index])\n",
    "\n",
    "    def __len__(self):\n",
    "        return self.len"
   ]
  },
  {
   "cell_type": "code",
   "execution_count": 7,
   "metadata": {},
   "outputs": [],
   "source": [
    "X_train = np.load('data/train_test/X_mel_train.npy')"
   ]
  },
  {
   "cell_type": "code",
   "execution_count": 8,
   "metadata": {},
   "outputs": [],
   "source": [
    "X_test = np.load('data/train_test/X_mel_test.npy')"
   ]
  },
  {
   "cell_type": "code",
   "execution_count": 9,
   "metadata": {},
   "outputs": [],
   "source": [
    "y_train = np.load('data/train_test/y_mel_train.npy')"
   ]
  },
  {
   "cell_type": "code",
   "execution_count": 10,
   "metadata": {},
   "outputs": [],
   "source": [
    "y_test = np.load('data/train_test/y_mel_test.npy')"
   ]
  },
  {
   "cell_type": "code",
   "execution_count": 11,
   "metadata": {},
   "outputs": [
    {
     "name": "stdout",
     "output_type": "stream",
     "text": [
      "X_train: (1225, 35, 161)\n",
      "X_test: (307, 35, 161)\n",
      "y_train: (1225,)\n",
      "y_test: (307,)\n"
     ]
    }
   ],
   "source": [
    "print('X_train:', X_train.shape)\n",
    "\n",
    "print('X_test:', X_test.shape)\n",
    "\n",
    "print('y_train:', y_train.shape)\n",
    "print('y_test:', y_test.shape)"
   ]
  },
  {
   "cell_type": "code",
   "execution_count": 12,
   "metadata": {},
   "outputs": [],
   "source": [
    "train_dataset = CattleSoundDataset(X_train, y_train)"
   ]
  },
  {
   "cell_type": "code",
   "execution_count": 13,
   "metadata": {},
   "outputs": [],
   "source": [
    "test_dataset = CattleSoundDataset(X_test, y_test)"
   ]
  },
  {
   "cell_type": "markdown",
   "metadata": {},
   "source": [
    "### STEP 2: MAKING DATASET ITERABLE"
   ]
  },
  {
   "cell_type": "code",
   "execution_count": 14,
   "metadata": {},
   "outputs": [],
   "source": [
    "batch_size = 32\n",
    "n_iters = 1000\n",
    "num_epochs = n_iters / (len(train_dataset) / batch_size)\n",
    "num_epochs = int(num_epochs)"
   ]
  },
  {
   "cell_type": "code",
   "execution_count": 15,
   "metadata": {},
   "outputs": [
    {
     "data": {
      "text/plain": [
       "26"
      ]
     },
     "execution_count": 15,
     "metadata": {},
     "output_type": "execute_result"
    }
   ],
   "source": [
    "num_epochs"
   ]
  },
  {
   "cell_type": "code",
   "execution_count": 16,
   "metadata": {},
   "outputs": [],
   "source": [
    "transformations = transforms.Compose([transforms.ToTensor()])"
   ]
  },
  {
   "cell_type": "code",
   "execution_count": 17,
   "metadata": {},
   "outputs": [],
   "source": [
    "train_loader = torch.utils.data.DataLoader(dataset=train_dataset, \n",
    "                                           batch_size= batch_size, \n",
    "                                           shuffle=True)"
   ]
  },
  {
   "cell_type": "code",
   "execution_count": 18,
   "metadata": {},
   "outputs": [],
   "source": [
    "test_loader = torch.utils.data.DataLoader(dataset=test_dataset, \n",
    "                                          batch_size=batch_size, \n",
    "                                          shuffle=False)"
   ]
  },
  {
   "cell_type": "code",
   "execution_count": 19,
   "metadata": {},
   "outputs": [],
   "source": [
    "dataset_sizes = {'train':len(train_loader.dataset),'valid':len(test_loader.dataset)}"
   ]
  },
  {
   "cell_type": "code",
   "execution_count": 20,
   "metadata": {},
   "outputs": [],
   "source": [
    "dataloaders = {'train':train_loader,'valid':test_loader}"
   ]
  },
  {
   "cell_type": "markdown",
   "metadata": {},
   "source": [
    "### STEP 3: CREATE MODEL CLASS"
   ]
  },
  {
   "cell_type": "code",
   "execution_count": 40,
   "metadata": {},
   "outputs": [],
   "source": [
    "class ConvBlock(nn.Module):\n",
    "    def __init__(self, in_channels, out_channels):\n",
    "        super().__init__()\n",
    "        \n",
    "        self.conv1 = nn.Sequential(\n",
    "            nn.Conv2d(in_channels, out_channels, kernel_size=3, stride=1, padding=(1,1)),\n",
    "            nn.BatchNorm2d(out_channels),\n",
    "            nn.ReLU(),\n",
    "        )\n",
    "        self.conv2 = nn.Sequential(\n",
    "            nn.Conv2d(out_channels, out_channels, kernel_size=3, stride=1, padding=(1,1)),\n",
    "            nn.BatchNorm2d(out_channels),\n",
    "            nn.ReLU(),\n",
    "        )\n",
    "\n",
    "        self.max_pool = nn.MaxPool2d(2)\n",
    "        self._init_weights()\n",
    "        \n",
    "    def _init_weights(self):\n",
    "        for m in self.modules():\n",
    "            if isinstance(m, nn.Conv2d):\n",
    "                nn.init.kaiming_normal_(m.weight)\n",
    "                if m.bias is not None:\n",
    "                    nn.init.zeros_(m.bias)\n",
    "            elif isinstance(m, nn.BatchNorm2d):\n",
    "                nn.init.constant_(m.weight, 1)\n",
    "                nn.init.zeros_(m.bias)\n",
    "        \n",
    "    def forward(self, x):\n",
    "        x = self.conv1(x)\n",
    "        x = self.conv2(x)\n",
    "        x = self.max_pool(x)\n",
    "        return x"
   ]
  },
  {
   "cell_type": "code",
   "execution_count": 41,
   "metadata": {},
   "outputs": [],
   "source": [
    "class CNNModel(nn.Module):\n",
    "    def __init__(self, num_classes):\n",
    "        super().__init__()\n",
    "        \n",
    "        self.conv = nn.Sequential(\n",
    "            ConvBlock(in_channels=1, out_channels=32),\n",
    "            ConvBlock(in_channels=32, out_channels=64),\n",
    "            ConvBlock(in_channels=64, out_channels=64),\n",
    "            ConvBlock(in_channels=64, out_channels=32)\n",
    "        )\n",
    "        \n",
    "        self.fc = nn.Sequential(\n",
    "            nn.Dropout(0.5),\n",
    "            nn.Linear(640, 320),\n",
    "            nn.PReLU(),\n",
    "            nn.BatchNorm1d(320),\n",
    "            nn.Dropout(0.1),\n",
    "            nn.Linear(320, num_classes),\n",
    "        )\n",
    "\n",
    "    def forward(self, x):\n",
    "        out = self.conv(x)\n",
    "        out = out.view(out.size(0), -1)\n",
    "        #x = torch.mean(x, dim=3)\n",
    "        #x, _ = torch.max(x, dim=2)\n",
    "        out = self.fc(out)\n",
    "        return out"
   ]
  },
  {
   "cell_type": "markdown",
   "metadata": {},
   "source": [
    "### STEP 4: INSTANTIATE MODEL CLASS"
   ]
  },
  {
   "cell_type": "code",
   "execution_count": 42,
   "metadata": {},
   "outputs": [],
   "source": [
    "model = CNNModel(num_classes=3)"
   ]
  },
  {
   "cell_type": "code",
   "execution_count": 43,
   "metadata": {},
   "outputs": [],
   "source": [
    "#######################\n",
    "#  USE GPU FOR MODEL  #\n",
    "#######################\n",
    "\n",
    "if torch.cuda.is_available():\n",
    "    model.cuda()"
   ]
  },
  {
   "cell_type": "markdown",
   "metadata": {},
   "source": [
    "### STEP 5: INSTANTIATE LOSS CLASS"
   ]
  },
  {
   "cell_type": "code",
   "execution_count": 44,
   "metadata": {},
   "outputs": [],
   "source": [
    "criterion = nn.CrossEntropyLoss().cuda()"
   ]
  },
  {
   "cell_type": "markdown",
   "metadata": {},
   "source": [
    "### STEP 6: INSTANTIATE OPTIMIZER CLASS"
   ]
  },
  {
   "cell_type": "code",
   "execution_count": 45,
   "metadata": {},
   "outputs": [],
   "source": [
    "learning_rate = 0.001\n",
    "\n",
    "optimizer = torch.optim.Adam(model.parameters(), lr=learning_rate)\n",
    "exp_lr_scheduler = lr_scheduler.StepLR(optimizer, step_size=7, gamma=0.1)"
   ]
  },
  {
   "cell_type": "markdown",
   "metadata": {},
   "source": [
    "### STEP 7: TRAIN THE MODEL"
   ]
  },
  {
   "cell_type": "code",
   "execution_count": 46,
   "metadata": {},
   "outputs": [],
   "source": [
    "def train_model(model, criterion, optimizer, scheduler, num_epochs=num_epochs, graph=False):\n",
    "    since = time.time()\n",
    "\n",
    "    best_model_wts = model.state_dict()\n",
    "    best_acc = 0.0\n",
    "    \n",
    "    history = pd.DataFrame()\n",
    "    train_acc = []\n",
    "    val_acc = []\n",
    "\n",
    "    for epoch in range(num_epochs):\n",
    "        print('Epoch {}/{}'.format(epoch, num_epochs - 1))\n",
    "        print('-' * 10)\n",
    "        \n",
    "\n",
    "        # Each epoch has a training and validation phase\n",
    "        for phase in ['train', 'valid']:\n",
    "            if phase == 'train':\n",
    "                scheduler.step()\n",
    "                model.train(True)  # Set model to training mode\n",
    "            else:\n",
    "                model.eval()  # Set model to evaluate mode\n",
    "\n",
    "            running_loss = 0.0\n",
    "            running_corrects = 0\n",
    "\n",
    "            # Calculate Accuracy         \n",
    "            y_pred = []\n",
    "            y_true = []\n",
    "\n",
    "            \n",
    "            # Iterate over data.\n",
    "            for data in dataloaders[phase]:\n",
    "                # get the inputs\n",
    "                inputs, labels = data\n",
    "\n",
    "                # wrap them in Variable\n",
    "                if torch.cuda.is_available():\n",
    "                    inputs = Variable(inputs.unsqueeze(1).cuda())\n",
    "                    labels = Variable(labels.cuda())\n",
    "                else:\n",
    "                    inputs, labels = Variable(inputs.unsqueeze(1)), Variable(labels)\n",
    "\n",
    "                # zero the parameter gradients\n",
    "                optimizer.zero_grad()\n",
    "                \n",
    "                # forward\n",
    "                outputs = model(inputs.to(dtype=torch.float))\n",
    "                _, preds = torch.max(outputs.data, 1)\n",
    "                loss = criterion(outputs, labels)\n",
    "\n",
    "                # backward + optimize only if in training phase\n",
    "                if phase == 'train':\n",
    "                    loss.backward()\n",
    "                    optimizer.step()\n",
    "\n",
    "                # statistics\n",
    "                \n",
    "                running_loss += loss.data\n",
    "                running_corrects += torch.sum(preds == labels.data)\n",
    "                \n",
    "                if torch.cuda.is_available():\n",
    "                    y_pred += preds.cpu().numpy().tolist()\n",
    "                    y_true += labels.cpu().numpy().tolist()\n",
    "                    \n",
    "                else:\n",
    "                    y_pred += preds.numpy()\n",
    "                    y_true += labels.numpy()\n",
    "        \n",
    "                \n",
    "\n",
    "            epoch_loss = running_loss / dataset_sizes[phase]\n",
    "            #epoch_acc = running_corrects / dataset_sizes[phase]\n",
    "            epoch_acc = balanced_accuracy_score(y_true, y_pred)\n",
    "            \n",
    "            if phase == 'train':\n",
    "                train_acc.append(epoch_acc)\n",
    "            else:\n",
    "                val_acc.append(epoch_acc)\n",
    "            \n",
    "            \n",
    "\n",
    "            print('{} Loss: {:.4f} Acc: {:.4f}'.format(\n",
    "                phase, epoch_loss, epoch_acc))\n",
    "\n",
    "            # deep copy the model\n",
    "            if phase == 'valid' and epoch_acc > best_acc:\n",
    "                best_acc = epoch_acc\n",
    "                best_model_wts = model.state_dict()\n",
    "\n",
    "        print()\n",
    "\n",
    "    time_elapsed = time.time() - since\n",
    "    print('Training complete in {:.0f}m {:.0f}s'.format(\n",
    "        time_elapsed // 60, time_elapsed % 60))\n",
    "    print('Best val Acc: {:4f}'.format(best_acc))\n",
    "\n",
    "    # load best model weights\n",
    "    model.load_state_dict(best_model_wts)\n",
    "    \n",
    "    history['val_acc'] = val_acc\n",
    "    history['acc'] = train_acc\n",
    "    \n",
    "    if graph:\n",
    "        print()\n",
    "        print('==========' * 10)\n",
    "        plot_acc(history)\n",
    "        \n",
    "        \n",
    "    \n",
    "    \n",
    "    return model"
   ]
  },
  {
   "cell_type": "code",
   "execution_count": 47,
   "metadata": {
    "scrolled": false
   },
   "outputs": [
    {
     "name": "stdout",
     "output_type": "stream",
     "text": [
      "Epoch 0/25\n",
      "----------\n",
      "train Loss: 0.0268 Acc: 0.6006\n",
      "valid Loss: 0.0231 Acc: 0.6383\n",
      "\n",
      "Epoch 1/25\n",
      "----------\n",
      "train Loss: 0.0192 Acc: 0.7496\n",
      "valid Loss: 0.0199 Acc: 0.7158\n",
      "\n",
      "Epoch 2/25\n",
      "----------\n",
      "train Loss: 0.0164 Acc: 0.7497\n",
      "valid Loss: 0.0160 Acc: 0.7839\n",
      "\n",
      "Epoch 3/25\n",
      "----------\n",
      "train Loss: 0.0154 Acc: 0.7890\n",
      "valid Loss: 0.0162 Acc: 0.7957\n",
      "\n",
      "Epoch 4/25\n",
      "----------\n",
      "train Loss: 0.0153 Acc: 0.7669\n",
      "valid Loss: 0.0159 Acc: 0.7860\n",
      "\n",
      "Epoch 5/25\n",
      "----------\n",
      "train Loss: 0.0128 Acc: 0.8038\n",
      "valid Loss: 0.0196 Acc: 0.6635\n",
      "\n",
      "Epoch 6/25\n",
      "----------\n",
      "train Loss: 0.0127 Acc: 0.8023\n",
      "valid Loss: 0.0269 Acc: 0.7295\n",
      "\n",
      "Epoch 7/25\n",
      "----------\n",
      "train Loss: 0.0102 Acc: 0.8594\n",
      "valid Loss: 0.0150 Acc: 0.7907\n",
      "\n",
      "Epoch 8/25\n",
      "----------\n",
      "train Loss: 0.0085 Acc: 0.8763\n",
      "valid Loss: 0.0153 Acc: 0.7805\n",
      "\n",
      "Epoch 9/25\n",
      "----------\n",
      "train Loss: 0.0079 Acc: 0.8767\n",
      "valid Loss: 0.0145 Acc: 0.7848\n",
      "\n",
      "Epoch 10/25\n",
      "----------\n",
      "train Loss: 0.0073 Acc: 0.8921\n",
      "valid Loss: 0.0147 Acc: 0.7969\n",
      "\n",
      "Epoch 11/25\n",
      "----------\n",
      "train Loss: 0.0064 Acc: 0.8972\n",
      "valid Loss: 0.0164 Acc: 0.7592\n",
      "\n",
      "Epoch 12/25\n",
      "----------\n",
      "train Loss: 0.0058 Acc: 0.9265\n",
      "valid Loss: 0.0166 Acc: 0.7509\n",
      "\n",
      "Epoch 13/25\n",
      "----------\n",
      "train Loss: 0.0055 Acc: 0.9395\n",
      "valid Loss: 0.0160 Acc: 0.8149\n",
      "\n",
      "Epoch 14/25\n",
      "----------\n",
      "train Loss: 0.0046 Acc: 0.9493\n",
      "valid Loss: 0.0155 Acc: 0.7890\n",
      "\n",
      "Epoch 15/25\n",
      "----------\n",
      "train Loss: 0.0042 Acc: 0.9515\n",
      "valid Loss: 0.0153 Acc: 0.7961\n",
      "\n",
      "Epoch 16/25\n",
      "----------\n",
      "train Loss: 0.0043 Acc: 0.9409\n",
      "valid Loss: 0.0155 Acc: 0.7981\n",
      "\n",
      "Epoch 17/25\n",
      "----------\n",
      "train Loss: 0.0051 Acc: 0.9463\n",
      "valid Loss: 0.0159 Acc: 0.7814\n",
      "\n",
      "Epoch 18/25\n",
      "----------\n",
      "train Loss: 0.0042 Acc: 0.9535\n",
      "valid Loss: 0.0153 Acc: 0.8015\n",
      "\n",
      "Epoch 19/25\n",
      "----------\n",
      "train Loss: 0.0043 Acc: 0.9539\n",
      "valid Loss: 0.0156 Acc: 0.7961\n",
      "\n",
      "Epoch 20/25\n",
      "----------\n",
      "train Loss: 0.0044 Acc: 0.9566\n",
      "valid Loss: 0.0157 Acc: 0.7849\n",
      "\n",
      "Epoch 21/25\n",
      "----------\n",
      "train Loss: 0.0040 Acc: 0.9544\n",
      "valid Loss: 0.0154 Acc: 0.7975\n",
      "\n",
      "Epoch 22/25\n",
      "----------\n",
      "train Loss: 0.0041 Acc: 0.9550\n",
      "valid Loss: 0.0154 Acc: 0.7893\n",
      "\n",
      "Epoch 23/25\n",
      "----------\n",
      "train Loss: 0.0040 Acc: 0.9534\n",
      "valid Loss: 0.0155 Acc: 0.7961\n",
      "\n",
      "Epoch 24/25\n",
      "----------\n",
      "train Loss: 0.0043 Acc: 0.9418\n",
      "valid Loss: 0.0155 Acc: 0.7904\n",
      "\n",
      "Epoch 25/25\n",
      "----------\n",
      "train Loss: 0.0047 Acc: 0.9415\n",
      "valid Loss: 0.0156 Acc: 0.7978\n",
      "\n",
      "Training complete in 0m 24s\n",
      "Best val Acc: 0.814941\n",
      "\n",
      "====================================================================================================\n"
     ]
    },
    {
     "data": {
      "image/png": "[encoded data removed]",
      "text/plain": [
       "<Figure size 864x432 with 2 Axes>"
      ]
     },
     "metadata": {
      "needs_background": "light"
     },
     "output_type": "display_data"
    }
   ],
   "source": [
    "model = train_model(model, criterion, optimizer, exp_lr_scheduler,\n",
    "                       num_epochs=num_epochs, graph=True)\n",
    "\n"
   ]
  },
  {
   "cell_type": "raw",
   "metadata": {
    "collapsed": true
   },
   "source": [
    "# Print model's state_dict\n",
    "print(\"Model's state_dict:\")\n",
    "for param_tensor in model.state_dict():\n",
    "    print(param_tensor, \"\\t\", model.state_dict()[param_tensor].size())\n",
    "\n",
    "# Print optimizer's state_dict\n",
    "print(\"Optimizer's state_dicat:\")\n",
    "for var_name in optimizer.state_dict():\n",
    "    print(var_name, \"\\t\", optimizer.state_dict()[var_name])"
   ]
  },
  {
   "cell_type": "markdown",
   "metadata": {},
   "source": [
    "### STEP 8: SAVING THE MODEL"
   ]
  },
  {
   "cell_type": "code",
   "execution_count": 29,
   "metadata": {},
   "outputs": [],
   "source": [
    "state = {\n",
    "    'epoch': num_epochs,\n",
    "    'state_dict': model.state_dict(),\n",
    "    'optimizer': optimizer.state_dict()\n",
    "}\n",
    "torch.save(state, MODELPATH+'cnn_pretrained.model')"
   ]
  },
  {
   "cell_type": "code",
   "execution_count": null,
   "metadata": {},
   "outputs": [],
   "source": []
  },
  {
   "cell_type": "code",
   "execution_count": null,
   "metadata": {},
   "outputs": [],
   "source": []
  },
  {
   "cell_type": "code",
   "execution_count": 31,
   "metadata": {},
   "outputs": [],
   "source": [
    "inputs, labels = next(iter(dataloaders['train']))"
   ]
  },
  {
   "cell_type": "code",
   "execution_count": 32,
   "metadata": {},
   "outputs": [
    {
     "data": {
      "text/plain": [
       "torch.Size([32, 35, 161])"
      ]
     },
     "execution_count": 32,
     "metadata": {},
     "output_type": "execute_result"
    }
   ],
   "source": [
    "inputs.shape"
   ]
  },
  {
   "cell_type": "code",
   "execution_count": 33,
   "metadata": {},
   "outputs": [],
   "source": [
    "conv = nn.Sequential(\n",
    "    ConvBlock(in_channels=1, out_channels=32),\n",
    "    ConvBlock(in_channels=32, out_channels=64),\n",
    "    ConvBlock(in_channels=64, out_channels=64),\n",
    "    ConvBlock(in_channels=64, out_channels=32)\n",
    "        )"
   ]
  },
  {
   "cell_type": "code",
   "execution_count": 34,
   "metadata": {},
   "outputs": [],
   "source": [
    "inputs, labels = Variable(inputs.unsqueeze(1)), Variable(labels)"
   ]
  },
  {
   "cell_type": "code",
   "execution_count": 35,
   "metadata": {},
   "outputs": [],
   "source": [
    "output = conv(inputs.to(dtype=torch.float))"
   ]
  },
  {
   "cell_type": "code",
   "execution_count": 36,
   "metadata": {},
   "outputs": [
    {
     "data": {
      "text/plain": [
       "torch.Size([32, 32, 2, 10])"
      ]
     },
     "execution_count": 36,
     "metadata": {},
     "output_type": "execute_result"
    }
   ],
   "source": [
    "output.shape"
   ]
  },
  {
   "cell_type": "code",
   "execution_count": 37,
   "metadata": {},
   "outputs": [],
   "source": [
    "output = output.view(output.size(0), -1)"
   ]
  },
  {
   "cell_type": "code",
   "execution_count": 38,
   "metadata": {},
   "outputs": [
    {
     "data": {
      "text/plain": [
       "torch.Size([32, 640])"
      ]
     },
     "execution_count": 38,
     "metadata": {},
     "output_type": "execute_result"
    }
   ],
   "source": [
    "output.shape"
   ]
  },
  {
   "cell_type": "code",
   "execution_count": null,
   "metadata": {},
   "outputs": [],
   "source": [
    "X"
   ]
  }
 ],
 "metadata": {
  "kernelspec": {
   "display_name": "Pytorch (base env)",
   "language": "python",
   "name": "base"
  },
  "language_info": {
   "codemirror_mode": {
    "name": "ipython",
    "version": 3
   },
   "file_extension": ".py",
   "mimetype": "text/x-python",
   "name": "python",
   "nbconvert_exporter": "python",
   "pygments_lexer": "ipython3",
   "version": "3.7.1"
  }
 },
 "nbformat": 4,
 "nbformat_minor": 2
}
