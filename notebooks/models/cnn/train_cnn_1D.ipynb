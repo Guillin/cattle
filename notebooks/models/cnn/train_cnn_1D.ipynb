{
 "cells": [
  {
   "cell_type": "code",
   "execution_count": 1,
   "metadata": {},
   "outputs": [],
   "source": [
    "import torch.utils.data as utils"
   ]
  },
  {
   "cell_type": "code",
   "execution_count": 2,
   "metadata": {},
   "outputs": [],
   "source": [
    "import torch\n",
    "import torch.nn as nn\n",
    "import torchvision.transforms as transforms\n",
    "import torchvision.datasets as dsets\n",
    "from torch.autograd import Variable\n",
    "\n",
    "from torch.optim import lr_scheduler\n",
    "\n",
    "from sklearn.metrics import balanced_accuracy_score\n",
    "\n",
    "from torch.utils.data import Dataset, DataLoader\n",
    "\n",
    "import pandas as pd\n",
    "import pickle\n",
    "\n",
    "import numpy as np\n",
    "\n",
    "from barbar import Bar\n",
    "\n",
    "import time\n",
    "\n",
    "%matplotlib inline \n",
    "import matplotlib.pyplot as plt"
   ]
  },
  {
   "cell_type": "code",
   "execution_count": 3,
   "metadata": {},
   "outputs": [
    {
     "data": {
      "text/plain": [
       "<torch._C.Generator at 0x7f47fc13f770>"
      ]
     },
     "execution_count": 3,
     "metadata": {},
     "output_type": "execute_result"
    }
   ],
   "source": [
    "torch.manual_seed(27)"
   ]
  },
  {
   "cell_type": "code",
   "execution_count": 4,
   "metadata": {},
   "outputs": [],
   "source": [
    "def plot_acc(history):\n",
    "    fig, axarr = plt.subplots(figsize=(12,6), ncols=2)\n",
    "    axarr[0].plot(range(0, len(history)), history['acc'], label='train score')\n",
    "    axarr[0].plot(range(0, len(history)), history['val_acc'], label='test score')\n",
    "    axarr[0].set_xlabel('Number of Epochs', fontsize=18)\n",
    "    axarr[0].set_ylabel('Accuracy', fontsize=18)\n",
    "    axarr[0].set_ylim([0,1])\n",
    "    axarr[1].plot(range(0, len(history)), history['acc'], label='train score')\n",
    "    axarr[1].plot(range(0, len(history)), history['val_acc'], label='test score')\n",
    "    axarr[1].set_xlabel('Number of Epochs', fontsize=18)\n",
    "    axarr[1].set_ylabel('Accuracy', fontsize=18)\n",
    "    axarr[1].set_ylim([0.7,1])\n",
    "    plt.legend()\n",
    "    plt.show()"
   ]
  },
  {
   "cell_type": "code",
   "execution_count": 5,
   "metadata": {},
   "outputs": [],
   "source": [
    "DATAPATH = 'data/features/'\n",
    "MODELPATH = 'output/models/'"
   ]
  },
  {
   "cell_type": "markdown",
   "metadata": {},
   "source": [
    "### STEP 2: LOADING DATASET "
   ]
  },
  {
   "cell_type": "code",
   "execution_count": 6,
   "metadata": {},
   "outputs": [],
   "source": [
    "class CattleSoundDataset(Dataset):\n",
    "    \"\"\" FreeSound dataset.\"\"\"\n",
    "\n",
    "    # Initialize your data, download, etc.\n",
    "    def __init__(self, X, y):\n",
    "        \n",
    "        self.len = X.shape[0]\n",
    "        self.x_data = torch.from_numpy(X)\n",
    "        self.y_data = torch.from_numpy(y)\n",
    "\n",
    "    def __getitem__(self, index):\n",
    "        return (self.x_data[index], self.y_data[index])\n",
    "\n",
    "    def __len__(self):\n",
    "        return self.len"
   ]
  },
  {
   "cell_type": "code",
   "execution_count": 7,
   "metadata": {},
   "outputs": [],
   "source": [
    "X_train = np.load('data/train_test/X_train.npy')"
   ]
  },
  {
   "cell_type": "code",
   "execution_count": 8,
   "metadata": {},
   "outputs": [],
   "source": [
    "X_test = np.load('data/train_test/X_test.npy')"
   ]
  },
  {
   "cell_type": "code",
   "execution_count": 9,
   "metadata": {},
   "outputs": [],
   "source": [
    "y_train = np.load('data/train_test/y_train.npy')"
   ]
  },
  {
   "cell_type": "code",
   "execution_count": 10,
   "metadata": {},
   "outputs": [],
   "source": [
    "y_test = np.load('data/train_test/y_test.npy')"
   ]
  },
  {
   "cell_type": "code",
   "execution_count": 11,
   "metadata": {},
   "outputs": [
    {
     "name": "stdout",
     "output_type": "stream",
     "text": [
      "X_train: (1225, 17640)\n",
      "X_test: (307, 17640)\n",
      "y_train: (1225,)\n",
      "y_test: (307,)\n"
     ]
    }
   ],
   "source": [
    "print('X_train:', X_train.shape)\n",
    "\n",
    "print('X_test:', X_test.shape)\n",
    "\n",
    "print('y_train:', y_train.shape)\n",
    "print('y_test:', y_test.shape)"
   ]
  },
  {
   "cell_type": "code",
   "execution_count": 12,
   "metadata": {},
   "outputs": [],
   "source": [
    "train_dataset = CattleSoundDataset(X_train, y_train)"
   ]
  },
  {
   "cell_type": "code",
   "execution_count": 13,
   "metadata": {},
   "outputs": [],
   "source": [
    "test_dataset = CattleSoundDataset(X_test, y_test)"
   ]
  },
  {
   "cell_type": "markdown",
   "metadata": {},
   "source": [
    "### STEP 2: MAKING DATASET ITERABLE"
   ]
  },
  {
   "cell_type": "code",
   "execution_count": 14,
   "metadata": {},
   "outputs": [],
   "source": [
    "batch_size = 32\n",
    "n_iters = 2000\n",
    "num_epochs = n_iters / (len(train_dataset) / batch_size)\n",
    "num_epochs = int(num_epochs)"
   ]
  },
  {
   "cell_type": "code",
   "execution_count": 15,
   "metadata": {},
   "outputs": [
    {
     "data": {
      "text/plain": [
       "52"
      ]
     },
     "execution_count": 15,
     "metadata": {},
     "output_type": "execute_result"
    }
   ],
   "source": [
    "num_epochs"
   ]
  },
  {
   "cell_type": "code",
   "execution_count": 16,
   "metadata": {},
   "outputs": [],
   "source": [
    "transformations = transforms.Compose([transforms.ToTensor()])"
   ]
  },
  {
   "cell_type": "code",
   "execution_count": 17,
   "metadata": {},
   "outputs": [],
   "source": [
    "train_loader = torch.utils.data.DataLoader(dataset=train_dataset, \n",
    "                                           batch_size= batch_size, \n",
    "                                           shuffle=True)"
   ]
  },
  {
   "cell_type": "code",
   "execution_count": 18,
   "metadata": {},
   "outputs": [],
   "source": [
    "test_loader = torch.utils.data.DataLoader(dataset=test_dataset, \n",
    "                                          batch_size=batch_size, \n",
    "                                          shuffle=False)"
   ]
  },
  {
   "cell_type": "code",
   "execution_count": 19,
   "metadata": {},
   "outputs": [],
   "source": [
    "dataset_sizes = {'train':len(train_loader.dataset),'valid':len(test_loader.dataset)}"
   ]
  },
  {
   "cell_type": "code",
   "execution_count": 20,
   "metadata": {},
   "outputs": [],
   "source": [
    "dataloaders = {'train':train_loader,'valid':test_loader}"
   ]
  },
  {
   "cell_type": "markdown",
   "metadata": {},
   "source": [
    "### STEP 3: CREATE MODEL CLASS"
   ]
  },
  {
   "cell_type": "code",
   "execution_count": 21,
   "metadata": {},
   "outputs": [],
   "source": [
    "class CNNModel(nn.Module):\n",
    "    def __init__(self, num_classes):\n",
    "        super(CNNModel, self).__init__()\n",
    "        self.conv_layers = nn.Sequential(\n",
    "            nn.BatchNorm1d(1),\n",
    "            nn.Conv1d(1, 4, kernel_size=3),\n",
    "            nn.ReLU(),\n",
    "            nn.BatchNorm1d(4),\n",
    "            nn.AvgPool1d(2),\n",
    "            nn.Conv1d(4, 8, kernel_size=3),\n",
    "            nn.ReLU(),\n",
    "            nn.BatchNorm1d(8),\n",
    "            nn.AvgPool1d(2),\n",
    "            nn.Conv1d(8, 16, kernel_size=3),\n",
    "            nn.ReLU(),\n",
    "            nn.BatchNorm1d(16),\n",
    "            nn.AvgPool1d(2),\n",
    "            nn.Conv1d(16, 32, kernel_size=3),\n",
    "            nn.ReLU(),\n",
    "            nn.AdaptiveMaxPool1d(1))\n",
    "        \n",
    "        self.linear_layers = nn.Sequential(\n",
    "            nn.BatchNorm1d(32),\n",
    "            nn.Dropout(0.2),\n",
    "            nn.Linear(32, num_classes))\n",
    "                \n",
    "    def forward(self, x):\n",
    "        x = x.view(-1, 1, 17640)\n",
    "        x = self.conv_layers(x)\n",
    "        x = x.view(-1, 32)\n",
    "        x = self.linear_layers(x)\n",
    "        return x"
   ]
  },
  {
   "cell_type": "markdown",
   "metadata": {},
   "source": [
    "### STEP 4: INSTANTIATE MODEL CLASS"
   ]
  },
  {
   "cell_type": "code",
   "execution_count": 22,
   "metadata": {},
   "outputs": [],
   "source": [
    "model = CNNModel(num_classes=3)"
   ]
  },
  {
   "cell_type": "code",
   "execution_count": 23,
   "metadata": {},
   "outputs": [],
   "source": [
    "#######################\n",
    "#  USE GPU FOR MODEL  #\n",
    "#######################\n",
    "\n",
    "if torch.cuda.is_available():\n",
    "    model.cuda()"
   ]
  },
  {
   "cell_type": "markdown",
   "metadata": {},
   "source": [
    "### STEP 5: INSTANTIATE LOSS CLASS"
   ]
  },
  {
   "cell_type": "code",
   "execution_count": 24,
   "metadata": {},
   "outputs": [],
   "source": [
    "criterion = nn.CrossEntropyLoss().cuda()"
   ]
  },
  {
   "cell_type": "markdown",
   "metadata": {},
   "source": [
    "### STEP 6: INSTANTIATE OPTIMIZER CLASS"
   ]
  },
  {
   "cell_type": "code",
   "execution_count": 25,
   "metadata": {},
   "outputs": [],
   "source": [
    "learning_rate = 0.001\n",
    "\n",
    "optimizer = torch.optim.Adam(model.parameters(), lr=learning_rate)\n",
    "exp_lr_scheduler = lr_scheduler.StepLR(optimizer, step_size=7, gamma=0.1)"
   ]
  },
  {
   "cell_type": "markdown",
   "metadata": {},
   "source": [
    "### STEP 7: TRAIN THE MODEL"
   ]
  },
  {
   "cell_type": "code",
   "execution_count": 26,
   "metadata": {},
   "outputs": [],
   "source": [
    "def train_model(model, criterion, optimizer, scheduler, num_epochs=num_epochs, graph=False):\n",
    "    since = time.time()\n",
    "\n",
    "    best_model_wts = model.state_dict()\n",
    "    best_acc = 0.0\n",
    "    best_epoch = 0\n",
    "    \n",
    "    history = pd.DataFrame()\n",
    "    train_acc = []\n",
    "    val_acc = []\n",
    "\n",
    "    for epoch in range(num_epochs):\n",
    "        print('Epoch {}/{}'.format(epoch, num_epochs - 1))\n",
    "        print('-' * 10)\n",
    "        \n",
    "\n",
    "        # Each epoch has a training and validation phase\n",
    "        for phase in ['train', 'valid']:\n",
    "            if phase == 'train':\n",
    "                scheduler.step()\n",
    "                model.train(True)  # Set model to training mode\n",
    "            else:\n",
    "                model.eval()  # Set model to evaluate mode\n",
    "\n",
    "            running_loss = 0.0\n",
    "            running_corrects = 0\n",
    "\n",
    "            # Calculate Accuracy         \n",
    "            y_pred = []\n",
    "            y_true = []\n",
    "\n",
    "            \n",
    "            # Iterate over data.\n",
    "            for data in dataloaders[phase]:\n",
    "                # get the inputs\n",
    "                inputs, labels = data\n",
    "\n",
    "                # wrap them in Variable\n",
    "                if torch.cuda.is_available():\n",
    "                    inputs = Variable(inputs.unsqueeze(1).cuda())\n",
    "                    labels = Variable(labels.cuda())\n",
    "                else:\n",
    "                    inputs, labels = Variable(inputs.unsqueeze(1)), Variable(labels)\n",
    "\n",
    "                # zero the parameter gradients\n",
    "                optimizer.zero_grad()\n",
    "                \n",
    "                # forward\n",
    "                outputs = model(inputs.to(dtype=torch.float))\n",
    "                _, preds = torch.max(outputs.data, 1)\n",
    "                loss = criterion(outputs, labels)\n",
    "\n",
    "                # backward + optimize only if in training phase\n",
    "                if phase == 'train':\n",
    "                    loss.backward()\n",
    "                    optimizer.step()\n",
    "\n",
    "                # statistics\n",
    "                \n",
    "                running_loss += loss.data\n",
    "                running_corrects += torch.sum(preds == labels.data)\n",
    "                \n",
    "                if torch.cuda.is_available():\n",
    "                    y_pred += preds.cpu().numpy().tolist()\n",
    "                    y_true += labels.cpu().numpy().tolist()\n",
    "                    \n",
    "                else:\n",
    "                    y_pred += preds.numpy()\n",
    "                    y_true += labels.numpy()\n",
    "        \n",
    "                \n",
    "\n",
    "            epoch_loss = running_loss / dataset_sizes[phase]\n",
    "            #epoch_acc = running_corrects / dataset_sizes[phase]\n",
    "            epoch_acc = balanced_accuracy_score(y_true, y_pred)\n",
    "            \n",
    "            if phase == 'train':\n",
    "                train_acc.append(epoch_acc)\n",
    "            else:\n",
    "                val_acc.append(epoch_acc)\n",
    "            \n",
    "            \n",
    "\n",
    "            print('{} Loss: {:.4f} Acc: {:.4f}'.format(\n",
    "                phase, epoch_loss, epoch_acc))\n",
    "\n",
    "            # deep copy the model\n",
    "            if phase == 'valid' and epoch_acc > best_acc:\n",
    "                best_acc = epoch_acc\n",
    "                best_model_wts = model.state_dict()\n",
    "                best_epoch = epoch\n",
    "\n",
    "        print()\n",
    "\n",
    "    time_elapsed = time.time() - since\n",
    "    print('Training complete in {:.0f}m {:.0f}s'.format(\n",
    "        time_elapsed // 60, time_elapsed % 60))\n",
    "    print('Best val Acc: {:4f}'.format(best_acc))\n",
    "\n",
    "    # load best model weights\n",
    "    model.load_state_dict(best_model_wts)\n",
    "    \n",
    "    history['val_acc'] = val_acc\n",
    "    history['acc'] = train_acc\n",
    "    \n",
    "    if graph:\n",
    "        print()\n",
    "        print('==========' * 10)\n",
    "        plot_acc(history)\n",
    "        \n",
    "        \n",
    "    \n",
    "    \n",
    "    return model, best_epoch"
   ]
  },
  {
   "cell_type": "code",
   "execution_count": 27,
   "metadata": {
    "scrolled": false
   },
   "outputs": [
    {
     "name": "stdout",
     "output_type": "stream",
     "text": [
      "Epoch 0/51\n",
      "----------\n",
      "train Loss: 0.0336 Acc: 0.4745\n",
      "valid Loss: 0.0355 Acc: 0.5365\n",
      "\n",
      "Epoch 1/51\n",
      "----------\n",
      "train Loss: 0.0242 Acc: 0.6080\n",
      "valid Loss: 0.0240 Acc: 0.6356\n",
      "\n",
      "Epoch 2/51\n",
      "----------\n",
      "train Loss: 0.0212 Acc: 0.6323\n",
      "valid Loss: 0.0212 Acc: 0.6282\n",
      "\n",
      "Epoch 3/51\n",
      "----------\n",
      "train Loss: 0.0198 Acc: 0.6424\n",
      "valid Loss: 0.0210 Acc: 0.6299\n",
      "\n",
      "Epoch 4/51\n",
      "----------\n",
      "train Loss: 0.0199 Acc: 0.6481\n",
      "valid Loss: 0.0200 Acc: 0.7001\n",
      "\n",
      "Epoch 5/51\n",
      "----------\n",
      "train Loss: 0.0186 Acc: 0.6665\n",
      "valid Loss: 0.0203 Acc: 0.6282\n",
      "\n",
      "Epoch 6/51\n",
      "----------\n",
      "train Loss: 0.0184 Acc: 0.6816\n",
      "valid Loss: 0.0196 Acc: 0.6547\n",
      "\n",
      "Epoch 7/51\n",
      "----------\n",
      "train Loss: 0.0178 Acc: 0.6994\n",
      "valid Loss: 0.0196 Acc: 0.6859\n",
      "\n",
      "Epoch 8/51\n",
      "----------\n",
      "train Loss: 0.0178 Acc: 0.6963\n",
      "valid Loss: 0.0195 Acc: 0.6990\n",
      "\n",
      "Epoch 9/51\n",
      "----------\n",
      "train Loss: 0.0182 Acc: 0.6830\n",
      "valid Loss: 0.0195 Acc: 0.7083\n",
      "\n",
      "Epoch 10/51\n",
      "----------\n",
      "train Loss: 0.0182 Acc: 0.6859\n",
      "valid Loss: 0.0197 Acc: 0.7157\n",
      "\n",
      "Epoch 11/51\n",
      "----------\n",
      "train Loss: 0.0179 Acc: 0.6913\n",
      "valid Loss: 0.0195 Acc: 0.7194\n",
      "\n",
      "Epoch 12/51\n",
      "----------\n",
      "train Loss: 0.0176 Acc: 0.6883\n",
      "valid Loss: 0.0192 Acc: 0.7115\n",
      "\n",
      "Epoch 13/51\n",
      "----------\n",
      "train Loss: 0.0178 Acc: 0.6843\n",
      "valid Loss: 0.0194 Acc: 0.6932\n",
      "\n",
      "Epoch 14/51\n",
      "----------\n",
      "train Loss: 0.0178 Acc: 0.6950\n",
      "valid Loss: 0.0193 Acc: 0.7128\n",
      "\n",
      "Epoch 15/51\n",
      "----------\n",
      "train Loss: 0.0176 Acc: 0.7001\n",
      "valid Loss: 0.0191 Acc: 0.7140\n",
      "\n",
      "Epoch 16/51\n",
      "----------\n",
      "train Loss: 0.0176 Acc: 0.6992\n",
      "valid Loss: 0.0192 Acc: 0.6964\n",
      "\n",
      "Epoch 17/51\n",
      "----------\n",
      "train Loss: 0.0177 Acc: 0.7019\n",
      "valid Loss: 0.0192 Acc: 0.7095\n",
      "\n",
      "Epoch 18/51\n",
      "----------\n",
      "train Loss: 0.0186 Acc: 0.6935\n",
      "valid Loss: 0.0201 Acc: 0.7532\n",
      "\n",
      "Epoch 19/51\n",
      "----------\n",
      "train Loss: 0.0178 Acc: 0.6885\n",
      "valid Loss: 0.0192 Acc: 0.7083\n",
      "\n",
      "Epoch 20/51\n",
      "----------\n",
      "train Loss: 0.0180 Acc: 0.6894\n",
      "valid Loss: 0.0191 Acc: 0.7149\n",
      "\n",
      "Epoch 21/51\n",
      "----------\n",
      "train Loss: 0.0180 Acc: 0.6979\n",
      "valid Loss: 0.0191 Acc: 0.7217\n",
      "\n",
      "Epoch 22/51\n",
      "----------\n",
      "train Loss: 0.0174 Acc: 0.6995\n",
      "valid Loss: 0.0194 Acc: 0.7078\n",
      "\n",
      "Epoch 23/51\n",
      "----------\n",
      "train Loss: 0.0181 Acc: 0.6941\n",
      "valid Loss: 0.0192 Acc: 0.6984\n",
      "\n",
      "Epoch 24/51\n",
      "----------\n",
      "train Loss: 0.0181 Acc: 0.6820\n",
      "valid Loss: 0.0191 Acc: 0.7160\n",
      "\n",
      "Epoch 25/51\n",
      "----------\n",
      "train Loss: 0.0178 Acc: 0.6863\n",
      "valid Loss: 0.0192 Acc: 0.7123\n",
      "\n",
      "Epoch 26/51\n",
      "----------\n",
      "train Loss: 0.0174 Acc: 0.7004\n",
      "valid Loss: 0.0191 Acc: 0.7030\n",
      "\n",
      "Epoch 27/51\n",
      "----------\n",
      "train Loss: 0.0175 Acc: 0.6917\n",
      "valid Loss: 0.0192 Acc: 0.7050\n",
      "\n",
      "Epoch 28/51\n",
      "----------\n",
      "train Loss: 0.0173 Acc: 0.6985\n",
      "valid Loss: 0.0191 Acc: 0.7078\n",
      "\n",
      "Epoch 29/51\n",
      "----------\n",
      "train Loss: 0.0179 Acc: 0.6918\n",
      "valid Loss: 0.0194 Acc: 0.6728\n",
      "\n",
      "Epoch 30/51\n",
      "----------\n",
      "train Loss: 0.0176 Acc: 0.7059\n",
      "valid Loss: 0.0191 Acc: 0.7180\n",
      "\n",
      "Epoch 31/51\n",
      "----------\n",
      "train Loss: 0.0178 Acc: 0.6905\n",
      "valid Loss: 0.0192 Acc: 0.6990\n",
      "\n",
      "Epoch 32/51\n",
      "----------\n",
      "train Loss: 0.0183 Acc: 0.7036\n",
      "valid Loss: 0.0192 Acc: 0.7115\n",
      "\n",
      "Epoch 33/51\n",
      "----------\n",
      "train Loss: 0.0178 Acc: 0.6943\n",
      "valid Loss: 0.0192 Acc: 0.6924\n",
      "\n",
      "Epoch 34/51\n",
      "----------\n",
      "train Loss: 0.0178 Acc: 0.6959\n",
      "valid Loss: 0.0192 Acc: 0.6964\n",
      "\n",
      "Epoch 35/51\n",
      "----------\n",
      "train Loss: 0.0180 Acc: 0.6948\n",
      "valid Loss: 0.0192 Acc: 0.7149\n",
      "\n",
      "Epoch 36/51\n",
      "----------\n",
      "train Loss: 0.0183 Acc: 0.6855\n",
      "valid Loss: 0.0193 Acc: 0.6984\n",
      "\n",
      "Epoch 37/51\n",
      "----------\n",
      "train Loss: 0.0179 Acc: 0.6944\n",
      "valid Loss: 0.0194 Acc: 0.6896\n",
      "\n",
      "Epoch 38/51\n",
      "----------\n",
      "train Loss: 0.0178 Acc: 0.6987\n",
      "valid Loss: 0.0191 Acc: 0.7169\n",
      "\n",
      "Epoch 39/51\n",
      "----------\n",
      "train Loss: 0.0189 Acc: 0.6776\n",
      "valid Loss: 0.0190 Acc: 0.7152\n",
      "\n",
      "Epoch 40/51\n",
      "----------\n",
      "train Loss: 0.0177 Acc: 0.7009\n",
      "valid Loss: 0.0193 Acc: 0.7063\n",
      "\n",
      "Epoch 41/51\n",
      "----------\n",
      "train Loss: 0.0180 Acc: 0.6956\n",
      "valid Loss: 0.0191 Acc: 0.7123\n",
      "\n",
      "Epoch 42/51\n",
      "----------\n",
      "train Loss: 0.0179 Acc: 0.7000\n",
      "valid Loss: 0.0192 Acc: 0.7180\n",
      "\n",
      "Epoch 43/51\n",
      "----------\n",
      "train Loss: 0.0179 Acc: 0.6845\n",
      "valid Loss: 0.0191 Acc: 0.7030\n",
      "\n",
      "Epoch 44/51\n",
      "----------\n",
      "train Loss: 0.0179 Acc: 0.7074\n",
      "valid Loss: 0.0193 Acc: 0.7169\n",
      "\n",
      "Epoch 45/51\n",
      "----------\n",
      "train Loss: 0.0179 Acc: 0.6879\n",
      "valid Loss: 0.0191 Acc: 0.7274\n",
      "\n",
      "Epoch 46/51\n",
      "----------\n",
      "train Loss: 0.0182 Acc: 0.6729\n",
      "valid Loss: 0.0193 Acc: 0.6952\n",
      "\n",
      "Epoch 47/51\n",
      "----------\n",
      "train Loss: 0.0180 Acc: 0.6889\n",
      "valid Loss: 0.0191 Acc: 0.7140\n",
      "\n",
      "Epoch 48/51\n",
      "----------\n",
      "train Loss: 0.0177 Acc: 0.7005\n",
      "valid Loss: 0.0195 Acc: 0.6904\n",
      "\n",
      "Epoch 49/51\n",
      "----------\n",
      "train Loss: 0.0177 Acc: 0.7068\n",
      "valid Loss: 0.0192 Acc: 0.7208\n",
      "\n",
      "Epoch 50/51\n",
      "----------\n",
      "train Loss: 0.0180 Acc: 0.7010\n",
      "valid Loss: 0.0191 Acc: 0.7115\n",
      "\n",
      "Epoch 51/51\n",
      "----------\n",
      "train Loss: 0.0177 Acc: 0.6881\n",
      "valid Loss: 0.0193 Acc: 0.7095\n",
      "\n",
      "Training complete in 0m 36s\n",
      "Best val Acc: 0.753151\n",
      "\n",
      "====================================================================================================\n"
     ]
    },
    {
     "data": {
      "image/png": "[encoded data removed]",
      "text/plain": [
       "<Figure size 864x432 with 2 Axes>"
      ]
     },
     "metadata": {
      "needs_background": "light"
     },
     "output_type": "display_data"
    }
   ],
   "source": [
    "model, best_epoch = train_model(model, criterion, optimizer, exp_lr_scheduler,\n",
    "                       num_epochs=num_epochs, graph=True)\n",
    "\n"
   ]
  },
  {
   "cell_type": "raw",
   "metadata": {
    "collapsed": true
   },
   "source": [
    "# Print model's state_dict\n",
    "print(\"Model's state_dict:\")\n",
    "for param_tensor in model.state_dict():\n",
    "    print(param_tensor, \"\\t\", model.state_dict()[param_tensor].size())\n",
    "\n",
    "# Print optimizer's state_dict\n",
    "print(\"Optimizer's state_dicat:\")\n",
    "for var_name in optimizer.state_dict():\n",
    "    print(var_name, \"\\t\", optimizer.state_dict()[var_name])"
   ]
  },
  {
   "cell_type": "markdown",
   "metadata": {},
   "source": [
    "### STEP 8: SAVING THE MODEL"
   ]
  },
  {
   "cell_type": "code",
   "execution_count": 28,
   "metadata": {},
   "outputs": [],
   "source": [
    "state = {\n",
    "    'epoch': best_epoch,\n",
    "    'state_dict': model.state_dict(),\n",
    "    'optimizer': optimizer.state_dict()\n",
    "}\n",
    "torch.save(state, MODELPATH+'cnn_pretrained.model')"
   ]
  },
  {
   "cell_type": "code",
   "execution_count": null,
   "metadata": {},
   "outputs": [],
   "source": []
  },
  {
   "cell_type": "raw",
   "metadata": {},
   "source": [
    "inputs, labels = next(iter(dataloaders['train']))"
   ]
  },
  {
   "cell_type": "raw",
   "metadata": {},
   "source": [
    "inputs.shape"
   ]
  },
  {
   "cell_type": "raw",
   "metadata": {},
   "source": [
    "conv = nn.Sequential(\n",
    "            ConvBlock(in_channels=1, out_channels=32),\n",
    "            ConvBlock(in_channels=32, out_channels=64),\n",
    "            ConvBlock(in_channels=64, out_channels=128),\n",
    "        )"
   ]
  },
  {
   "cell_type": "raw",
   "metadata": {},
   "source": [
    "inputs, labels = Variable(inputs.unsqueeze(1)), Variable(labels)"
   ]
  },
  {
   "cell_type": "raw",
   "metadata": {},
   "source": [
    "output = conv(inputs.to(dtype=torch.float))"
   ]
  },
  {
   "cell_type": "raw",
   "metadata": {},
   "source": [
    "output.shape"
   ]
  },
  {
   "cell_type": "raw",
   "metadata": {},
   "source": [
    "output = output.view(output.size(0), -1)"
   ]
  },
  {
   "cell_type": "raw",
   "metadata": {},
   "source": [
    "output.shape"
   ]
  },
  {
   "cell_type": "raw",
   "metadata": {},
   "source": [
    "X"
   ]
  }
 ],
 "metadata": {
  "kernelspec": {
   "display_name": "Pytorch (base env)",
   "language": "python",
   "name": "base"
  },
  "language_info": {
   "codemirror_mode": {
    "name": "ipython",
    "version": 3
   },
   "file_extension": ".py",
   "mimetype": "text/x-python",
   "name": "python",
   "nbconvert_exporter": "python",
   "pygments_lexer": "ipython3",
   "version": "3.7.1"
  }
 },
 "nbformat": 4,
 "nbformat_minor": 2
}
