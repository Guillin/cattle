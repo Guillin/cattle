{
 "cells": [
  {
   "cell_type": "code",
   "execution_count": 1,
   "metadata": {},
   "outputs": [],
   "source": [
    "import pandas as pd\n",
    "import numpy as np\n",
    "import matplotlib.pyplot as plt\n",
    "from sklearn import preprocessing\n",
    "import xgboost as xgb"
   ]
  },
  {
   "cell_type": "code",
   "execution_count": 2,
   "metadata": {},
   "outputs": [],
   "source": [
    "from sklearn.metrics import mean_absolute_error"
   ]
  },
  {
   "cell_type": "code",
   "execution_count": 3,
   "metadata": {},
   "outputs": [],
   "source": [
    "from datetime import date"
   ]
  },
  {
   "cell_type": "code",
   "execution_count": 4,
   "metadata": {},
   "outputs": [],
   "source": [
    "import warnings\n",
    "warnings.filterwarnings(action='ignore')"
   ]
  },
  {
   "cell_type": "code",
   "execution_count": 5,
   "metadata": {},
   "outputs": [],
   "source": [
    "# set the seed of random number generator, which is useful for creating simulations \n",
    "# or random objects that can be reproduced.\n",
    "import random\n",
    "SEED=3\n",
    "random.seed(SEED)\n",
    "np.random.seed(SEED)"
   ]
  },
  {
   "cell_type": "raw",
   "metadata": {},
   "source": [
    "# Load Train Data\n",
    "train = pd.read_csv('../data/processed/train_aggr.csv', sep=';')"
   ]
  },
  {
   "cell_type": "code",
   "execution_count": 6,
   "metadata": {},
   "outputs": [],
   "source": [
    "# Load Train Data\n",
    "train = pd.read_pickle('../data/processed/train_nochanel_uniqueidpos_x_envios_feateng.pkl')"
   ]
  },
  {
   "cell_type": "code",
   "execution_count": 7,
   "metadata": {},
   "outputs": [
    {
     "data": {
      "text/plain": [
       "(11810, 94)"
      ]
     },
     "execution_count": 7,
     "metadata": {},
     "output_type": "execute_result"
    }
   ],
   "source": [
    "train.shape"
   ]
  },
  {
   "cell_type": "code",
   "execution_count": 8,
   "metadata": {},
   "outputs": [],
   "source": [
    "train['fecha_venta_norm'] = pd.to_datetime(train['fecha_venta_norm'])"
   ]
  },
  {
   "cell_type": "code",
   "execution_count": 9,
   "metadata": {},
   "outputs": [],
   "source": [
    "train['fecha_venta_norm'] = train['fecha_venta_norm'].dt.date"
   ]
  },
  {
   "cell_type": "raw",
   "metadata": {},
   "source": [
    "# Filtramos los meses que consideramos buenos para el entrenamiento (11 y 12)\n",
    "train = train[train.fecha_venta_norm.isin([  #date(2012, 11, 1),\n",
    "                                        date(2012, 12, 1),\n",
    "                                        #date(2013, 11, 1), \n",
    "                                        date(2013, 12, 1), \n",
    "                                        #date(2014, 11, 1)\n",
    "])]"
   ]
  },
  {
   "cell_type": "raw",
   "metadata": {},
   "source": [
    "predictors = ['id_pos','canal', 'competidores',\n",
    "       'ingreso_mediana', 'densidad_poblacional',\n",
    "       'pct_0a5', 'pct_5a9', 'pct_10a14', 'pct_15a19', 'pct_20a24',\n",
    "       'pct_25a29', 'pct_30a34', 'pct_35a39', 'pct_40a44', 'pct_45a49',\n",
    "       'pct_50a54', 'pct_55a59', 'pct_60a64', 'pct_65a69', 'pct_70a74',\n",
    "       'pct_75a79', 'pct_80a84', 'pct_85ainf', 'pct_bachelors',\n",
    "       'pct_doctorados', 'pct_secundario', 'pct_master', 'pct_bicicleta',\n",
    "       'pct_omnibus', 'pct_subtes', 'pct_taxi', 'pct_caminata',\n",
    "       'mediana_valor_hogar', 'unidades']"
   ]
  },
  {
   "cell_type": "code",
   "execution_count": 10,
   "metadata": {},
   "outputs": [],
   "source": [
    "predictors = [\n",
    "    'id_pos', \n",
    "    #'canal',\n",
    "    'competidores',\n",
    "    'ingreso_mediana',\n",
    "    'ingreso_promedio',\n",
    "    'densidad_poblacional',\n",
    "    'pct_0a5',\n",
    "    'pct_5a9',\n",
    "    'pct_10a14',\n",
    "    'pct_15a19',\n",
    "    'pct_20a24',\n",
    "    'pct_25a29',\n",
    "    'pct_30a34',\n",
    "    'pct_35a39',\n",
    "    'pct_40a44',\n",
    "    'pct_45a49',\n",
    "    'pct_50a54',\n",
    "    'pct_55a59',\n",
    "    'pct_60a64',\n",
    "    'pct_65a69',\n",
    "    'pct_70a74',\n",
    "    'pct_75a79',\n",
    "    'pct_80a84',\n",
    "    'pct_85ainf',\n",
    "    'pct_bachelors',\n",
    "    'pct_doctorados',\n",
    "    'pct_secundario',\n",
    "    'pct_master',\n",
    "    'pct_bicicleta',\n",
    "    'pct_omnibus',\n",
    "    'pct_subtes',\n",
    "    'pct_taxi',\n",
    "    'pct_caminata',\n",
    "    'mediana_valor_hogar',\n",
    "    #'unidades_despachadas_sum', \n",
    "    #'unidades_despachadas_max',\n",
    "    #'unidades_despachadas_min', \n",
    "    #'unidades_despachadas_avg',\n",
    "    #'cantidad_envios_max', \n",
    "    #'cantidad_envios_min', \n",
    "    #'cantidad_envios_avg',\n",
    "    #'num_cantidad_envios', \n",
    "    #'unidades_despachadas_sum_acum', \n",
    "    #'unidades_despachadas_sum_acum_3p',\n",
    "    #'unidades_despachadas_sum_acum_6p', \n",
    "    #'unidades_despachadas_max_acum', \n",
    "    #'unidades_despachadas_min_acum', \n",
    "    #'num_cantidad_envios_acum', \n",
    "    #'num_cantidad_envios_acum_3per',\n",
    "    #'num_cantidad_envios_acum_6per', \n",
    "    #'diff_dtventa_dtenvio',\n",
    "    'unidades_before', \n",
    "    'num_ventas_before',\n",
    "    'rel_unidades_num_ventas', \n",
    "    'unidades_acum', \n",
    "    'num_ventas_acum',\n",
    "    'countacum', 'unidades_mean', \n",
    "    'num_ventas_mean',\n",
    "    'unidades_2time_before', \n",
    "    'unidades_diff', \n",
    "    'month',\n",
    "    'diff_dtventa_dtventa_before', \n",
    "    'unidades_pend',\n",
    "    ]"
   ]
  },
  {
   "cell_type": "code",
   "execution_count": 11,
   "metadata": {},
   "outputs": [],
   "source": [
    "train = train[predictors]"
   ]
  },
  {
   "cell_type": "markdown",
   "metadata": {},
   "source": [
    "#### encode catvars"
   ]
  },
  {
   "cell_type": "code",
   "execution_count": 12,
   "metadata": {},
   "outputs": [],
   "source": [
    "le = preprocessing.LabelEncoder()"
   ]
  },
  {
   "cell_type": "code",
   "execution_count": 13,
   "metadata": {},
   "outputs": [],
   "source": [
    "classes = train['canal'].unique()"
   ]
  },
  {
   "cell_type": "code",
   "execution_count": 14,
   "metadata": {},
   "outputs": [],
   "source": [
    "classes = [i for i in classes]"
   ]
  },
  {
   "cell_type": "code",
   "execution_count": 15,
   "metadata": {},
   "outputs": [],
   "source": [
    "classes.append('NAN')"
   ]
  },
  {
   "cell_type": "code",
   "execution_count": 16,
   "metadata": {},
   "outputs": [
    {
     "data": {
      "text/plain": [
       "LabelEncoder()"
      ]
     },
     "execution_count": 16,
     "metadata": {},
     "output_type": "execute_result"
    }
   ],
   "source": [
    "le.fit(classes)"
   ]
  },
  {
   "cell_type": "code",
   "execution_count": 17,
   "metadata": {},
   "outputs": [],
   "source": [
    "np.save('../models/canal_le.npy', le.classes_)"
   ]
  },
  {
   "cell_type": "code",
   "execution_count": 18,
   "metadata": {},
   "outputs": [],
   "source": [
    "train['canal'] = le.transform(train['canal'].values)"
   ]
  },
  {
   "cell_type": "code",
   "execution_count": 12,
   "metadata": {},
   "outputs": [],
   "source": [
    "X, y = train.iloc[:,:-1],train.iloc[:,-1]\n"
   ]
  },
  {
   "cell_type": "markdown",
   "metadata": {},
   "source": [
    "#### Building final model"
   ]
  },
  {
   "cell_type": "code",
   "execution_count": 13,
   "metadata": {},
   "outputs": [],
   "source": [
    "model = xgb.XGBRegressor(seed = SEED)"
   ]
  },
  {
   "cell_type": "code",
   "execution_count": 14,
   "metadata": {},
   "outputs": [
    {
     "data": {
      "text/plain": [
       "XGBRegressor(base_score=0.5, booster='gbtree', colsample_bylevel=1,\n",
       "       colsample_bynode=1, colsample_bytree=0.9, gamma=0.0, gpu_id=0,\n",
       "       importance_type='gain', learning_rate=0.01, max_bin=16,\n",
       "       max_delta_step=0, max_depth=4, min_child_weight=5, missing=None,\n",
       "       n_estimators=273, n_jobs=1, nthread=None,\n",
       "       objective='reg:squarederror', random_state=0, reg_alpha=1,\n",
       "       reg_lambda=1, scale_pos_weight=1, seed=3, silent=None,\n",
       "       subsample=0.8, tree_method='gpu_hist', verbosity=1)"
      ]
     },
     "execution_count": 14,
     "metadata": {},
     "output_type": "execute_result"
    }
   ],
   "source": [
    "model.set_params(objective = 'reg:squarederror')\n",
    "model.set_params(gpu_id = 0)\n",
    "model.set_params(max_bin= 16)\n",
    "model.set_params(tree_method='gpu_hist')\n",
    "model.set_params(learning_rate = 0.01)\n",
    "model.set_params(n_estimators = 273)\n",
    "model.set_params(max_depth = 4)\n",
    "model.set_params(min_child_weight = 5)\n",
    "model.set_params(gamma = 0.0)\n",
    "model.set_params(colsample_bytree = 0.9)\n",
    "model.set_params(subsample = 0.8)\n",
    "model.set_params(reg_alpha = 1)"
   ]
  },
  {
   "cell_type": "code",
   "execution_count": 15,
   "metadata": {},
   "outputs": [
    {
     "data": {
      "text/plain": [
       "XGBRegressor(base_score=0.5, booster='gbtree', colsample_bylevel=1,\n",
       "       colsample_bynode=1, colsample_bytree=0.9, gamma=0.0, gpu_id=0,\n",
       "       importance_type='gain', learning_rate=0.01, max_bin=16,\n",
       "       max_delta_step=0, max_depth=4, min_child_weight=5, missing=None,\n",
       "       n_estimators=273, n_jobs=1, nthread=None,\n",
       "       objective='reg:squarederror', random_state=0, reg_alpha=1,\n",
       "       reg_lambda=1, scale_pos_weight=1, seed=3, silent=None,\n",
       "       subsample=0.8, tree_method='gpu_hist', verbosity=1)"
      ]
     },
     "execution_count": 15,
     "metadata": {},
     "output_type": "execute_result"
    }
   ],
   "source": [
    "model.fit(X, y)"
   ]
  },
  {
   "cell_type": "code",
   "execution_count": 16,
   "metadata": {},
   "outputs": [],
   "source": [
    "y_pred = model.predict(X)"
   ]
  },
  {
   "cell_type": "code",
   "execution_count": 17,
   "metadata": {},
   "outputs": [
    {
     "name": "stdout",
     "output_type": "stream",
     "text": [
      "MAE unidades:  18.158011187190326\n"
     ]
    }
   ],
   "source": [
    "print(\"MAE unidades: \",mean_absolute_error(y, y_pred))"
   ]
  },
  {
   "cell_type": "code",
   "execution_count": 18,
   "metadata": {},
   "outputs": [
    {
     "name": "stdout",
     "output_type": "stream",
     "text": [
      "median unidades:  12.0\n"
     ]
    }
   ],
   "source": [
    "print(\"median unidades: \", np.median(y))"
   ]
  },
  {
   "cell_type": "code",
   "execution_count": 19,
   "metadata": {},
   "outputs": [
    {
     "name": "stdout",
     "output_type": "stream",
     "text": [
      "median unidades pred:  16.386812\n"
     ]
    }
   ],
   "source": [
    "print(\"median unidades pred: \", np.median(y_pred))"
   ]
  },
  {
   "cell_type": "code",
   "execution_count": 20,
   "metadata": {},
   "outputs": [],
   "source": [
    "import pickle\n",
    "#save model\n",
    "pickle.dump(model, open(\"../models/xgboost_013.pkl\",\"wb\")) "
   ]
  }
 ],
 "metadata": {
  "kernelspec": {
   "display_name": "Xgboost GPU(env)",
   "language": "python",
   "name": "xgbgpuenv"
  },
  "language_info": {
   "codemirror_mode": {
    "name": "ipython",
    "version": 3
   },
   "file_extension": ".py",
   "mimetype": "text/x-python",
   "name": "python",
   "nbconvert_exporter": "python",
   "pygments_lexer": "ipython3",
   "version": "3.6.8"
  }
 },
 "nbformat": 4,
 "nbformat_minor": 2
}
