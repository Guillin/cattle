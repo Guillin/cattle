{
 "cells": [
  {
   "cell_type": "code",
   "execution_count": 10,
   "metadata": {},
   "outputs": [],
   "source": [
    "import os\n",
    "import numpy as np\n",
    "import pandas as pd\n",
    "from scipy.io import wavfile as wv\n",
    "from scipy import signal\n"
   ]
  },
  {
   "cell_type": "code",
   "execution_count": 11,
   "metadata": {},
   "outputs": [],
   "source": [
    "class WaveDataset():\n",
    "    def __init__(self, data_folder, annotation_file):\n",
    "        self.data_folder = data_folder\n",
    "        ds = pd.read_csv(annotation_file)\n",
    "        self.filenames = list(ds['filename'])\n",
    "        if 'label' in ds.columns:\n",
    "            self.labels = list(ds['label'])\n",
    "        else:\n",
    "            self.labels = [-1 for i in range(len(self.filenames))]\n",
    "        self.cache = {}\n",
    "        \n",
    "        \n",
    "    def __len__(self):\n",
    "        return(len(self.labels))\n",
    "\n",
    "    def __getitem__(self, index):\n",
    "        if index in self.cache:\n",
    "            data, label = self.cache[index]\n",
    "        else:\n",
    "            fname = os.path.join(self.data_folder, \"%04d.wav\" % self.filenames[index])\n",
    "            _, data = wv.read(fname)\n",
    "            label = self.labels[index]\n",
    "            self.cache[index] = (data, label)\n",
    "        return data, label"
   ]
  },
  {
   "cell_type": "code",
   "execution_count": 12,
   "metadata": {},
   "outputs": [],
   "source": [
    "def preprocessing(raw_signal):\n",
    "\n",
    "    # Rectification \n",
    "    rectified_signal = np.abs(raw_signal)\n",
    "\n",
    "    # Low-pass filtering -> envelope\n",
    "    sample_freq = 22050 # Hz\n",
    "    cutoff_freq = 5     # Hz\n",
    "    norm_cutoff_freq = cutoff_freq / (sample_freq / 2.0)\n",
    "    b, a = signal.butter(2, norm_cutoff_freq, 'low')\n",
    "    envelope = signal.filtfilt(b, a, rectified_signal, axis=0)\n",
    "\n",
    "    return envelope, rectified_signal"
   ]
  },
  {
   "cell_type": "code",
   "execution_count": 59,
   "metadata": {},
   "outputs": [],
   "source": [
    "def extract_features(raw_signal, plot_features=False):\n",
    "    \n",
    "    envelope, rectified_signal = preprocessing(raw_signal)\n",
    "    threshold = 0.0115 * (2 ** 16) # to compute duration and envelope slope sign\n",
    "    above_thres = envelope >= threshold  # samples to consider in computation\n",
    "    \n",
    "    max_pos = np.argmax(envelope)\n",
    "    envelope_slope_sign = np.sign(np.diff(envelope, append=0)) * above_thres    \n",
    "    duration_signal = np.ones(envelope.shape) * above_thres\n",
    "\n",
    "    # features\n",
    "    duration = np.sum(duration_signal)\n",
    "    \n",
    "    if duration == 0:\n",
    "        threshold = np.mean(envelope)\n",
    "        above_thres = envelope >= threshold  # samples to consider in computation\n",
    "        envelope_slope_sign = np.sign(np.diff(envelope, append=0)) * above_thres    \n",
    "        duration_signal = np.ones(envelope.shape) * above_thres\n",
    "        duration = np.sum(duration_signal)\n",
    "        \n",
    "    zero_crossing = np.count_nonzero(np.abs(np.diff(envelope_slope_sign)))\n",
    "    amplitude = max(rectified_signal)\n",
    "    ratio = np.trapz(envelope[:max_pos], axis=0) / np.trapz(envelope, axis=0)\n",
    "\n",
    "    features = [duration, zero_crossing, float(amplitude), float(ratio), duration_signal]  \n",
    "    \n",
    "    # Illustrate features\n",
    "    if plot_features:\n",
    "        #print(features)\n",
    "        fig, axes = plt.subplots(nrows=4, ncols=1, figsize=(8,6), sharex=True)\n",
    "        axes[0].plot(raw_signal); axes[0].set_title(\"Señal sonora\")\n",
    "        axes[1].plot(envelope); axes[1].set_title(\"Envolvente\")\n",
    "        axes[2].plot(envelope_slope_sign); axes[2].set_title(\"Signo de la pendiente de la envolvente\")\n",
    "        axes[3].plot(duration_signal); axes[3].set_title(\"Duración\")\n",
    "        axes[3].set_xlabel(\"muestras\")\n",
    "        fig.tight_layout()\n",
    "    \n",
    "    return features"
   ]
  },
  {
   "cell_type": "code",
   "execution_count": 60,
   "metadata": {},
   "outputs": [],
   "source": [
    "train = WaveDataset(\"data/raw/\", \"data/raw/train_labels.csv\")\n"
   ]
  },
  {
   "cell_type": "code",
   "execution_count": 66,
   "metadata": {},
   "outputs": [],
   "source": [
    "# get max len of the signals\n",
    "waves = []\n",
    "for i, (sig, label) in enumerate(train):\n",
    "    duration, zero_crossing, amplitude, ratio, duration_signal =  extract_features(sig)\n",
    "    waves.append(int(duration))"
   ]
  },
  {
   "cell_type": "code",
   "execution_count": 68,
   "metadata": {},
   "outputs": [],
   "source": [
    "X = np.zeros([len(train), np.max(waves)])"
   ]
  },
  {
   "cell_type": "code",
   "execution_count": 71,
   "metadata": {},
   "outputs": [],
   "source": [
    "# Inicialize X zeros array \n",
    "X = np.zeros([len(train), np.max(waves)])\n",
    "y = []\n",
    "for i, (sig, label) in enumerate(train):\n",
    "    duration, zero_crossing, amplitude, ratio, duration_signal =  extract_features(sig)\n",
    "    itemindex = np.where(duration_signal==1)\n",
    "\n",
    "    sig_sliced = sig[itemindex]\n",
    "\n",
    "    X[i,:len(sig_sliced)]= sig_sliced\n",
    "    y.append(label)\n",
    "\n",
    "y = np.asarray(y)"
   ]
  },
  {
   "cell_type": "code",
   "execution_count": 77,
   "metadata": {},
   "outputs": [],
   "source": [
    "np.save('../../input/processed/X_slice.npy',X)"
   ]
  },
  {
   "cell_type": "code",
   "execution_count": 78,
   "metadata": {},
   "outputs": [],
   "source": [
    "np.save('../../input/processed/y_slice.npy',y)"
   ]
  },
  {
   "cell_type": "code",
   "execution_count": 79,
   "metadata": {},
   "outputs": [],
   "source": [
    "submission = WaveDataset(\"data/raw/\", \"data/raw/test_files.csv\")"
   ]
  },
  {
   "cell_type": "code",
   "execution_count": 80,
   "metadata": {},
   "outputs": [],
   "source": [
    "# get max len of the signals\n",
    "waves = []\n",
    "for i, (sig, label) in enumerate(submission):\n",
    "    duration, zero_crossing, amplitude, ratio, duration_signal =  extract_features(sig)\n",
    "    waves.append(int(duration))"
   ]
  },
  {
   "cell_type": "code",
   "execution_count": 81,
   "metadata": {},
   "outputs": [],
   "source": [
    "# Inicialize S zeros array \n",
    "S = np.zeros([len(submission), np.max(waves)])\n",
    "\n",
    "for i, (sig, label) in enumerate(submission):\n",
    "    duration, zero_crossing, amplitude, ratio, duration_signal =  extract_features(sig)\n",
    "    itemindex = np.where(duration_signal==1)\n",
    "\n",
    "    sig_sliced = sig[itemindex]\n",
    "\n",
    "    S[i,:len(sig_sliced)]= sig_sliced"
   ]
  },
  {
   "cell_type": "code",
   "execution_count": 82,
   "metadata": {},
   "outputs": [],
   "source": [
    "np.save('data/processed/submission_slice.npy',S)"
   ]
  }
 ],
 "metadata": {
  "kernelspec": {
   "display_name": "Signal (env)",
   "language": "python",
   "name": "signalenv"
  },
  "language_info": {
   "codemirror_mode": {
    "name": "ipython",
    "version": 3
   },
   "file_extension": ".py",
   "mimetype": "text/x-python",
   "name": "python",
   "nbconvert_exporter": "python",
   "pygments_lexer": "ipython3",
   "version": "3.7.3"
  }
 },
 "nbformat": 4,
 "nbformat_minor": 2
}
