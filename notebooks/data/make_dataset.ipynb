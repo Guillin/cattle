{
 "cells": [
  {
   "cell_type": "code",
   "execution_count": 1,
   "metadata": {},
   "outputs": [],
   "source": [
    "import os\n",
    "import numpy as np\n",
    "import pandas as pd\n",
    "from scipy.io import wavfile as wv\n",
    "from sklearn.preprocessing import normalize"
   ]
  },
  {
   "cell_type": "code",
   "execution_count": 8,
   "metadata": {},
   "outputs": [],
   "source": [
    "class WaveDataset():\n",
    "    def __init__(self, data_folder, annotation_file):\n",
    "        self.data_folder = data_folder\n",
    "        ds = pd.read_csv(annotation_file)\n",
    "        self.filenames = list(ds['filename'])\n",
    "        if 'label' in ds.columns:\n",
    "            self.labels = list(ds['label'])\n",
    "        else:\n",
    "            self.labels = [-1 for i in range(len(self.filenames))]\n",
    "        self.cache = {}\n",
    "        \n",
    "        \n",
    "    def __len__(self):\n",
    "        return(len(self.labels))\n",
    "\n",
    "    def __getitem__(self, index):\n",
    "        if index in self.cache:\n",
    "            data, label = self.cache[index]\n",
    "        else:\n",
    "            fname = os.path.join(self.data_folder, \"%04d.wav\" % self.filenames[index])\n",
    "            _, data = wv.read(fname)\n",
    "            label = self.labels[index]\n",
    "            self.cache[index] = (data, label)\n",
    "        return data, label"
   ]
  },
  {
   "cell_type": "code",
   "execution_count": 3,
   "metadata": {},
   "outputs": [],
   "source": [
    "train = WaveDataset(\"../../input/raw/\", \"../../input/train_labels.csv\")\n"
   ]
  },
  {
   "cell_type": "code",
   "execution_count": 4,
   "metadata": {},
   "outputs": [],
   "source": [
    "# get max len of the signals\n",
    "signal = []\n",
    "for i, (sig, label) in enumerate(train):\n",
    "    signal.append(len(sig))"
   ]
  },
  {
   "cell_type": "code",
   "execution_count": 5,
   "metadata": {},
   "outputs": [],
   "source": [
    "# Inicialize X zeros array \n",
    "X = np.zeros([len(train), np.max(signal)])\n",
    "y = []\n",
    "for i, (sig, label) in enumerate(train):\n",
    "    X[i]= sig\n",
    "    y.append(label)\n",
    "\n",
    "y = np.asarray(y)"
   ]
  },
  {
   "cell_type": "code",
   "execution_count": 6,
   "metadata": {},
   "outputs": [],
   "source": [
    "# Inicialize X zeros array \n",
    "X_norm = np.zeros([len(train), np.max(signal)])\n",
    "for i, (sig, label) in enumerate(train):\n",
    "    X_norm[i]= normalize(sig.reshape(1,-1))\n"
   ]
  },
  {
   "cell_type": "code",
   "execution_count": 7,
   "metadata": {},
   "outputs": [],
   "source": [
    "np.save('../../input/processed/X.npy',X)"
   ]
  },
  {
   "cell_type": "code",
   "execution_count": 8,
   "metadata": {},
   "outputs": [],
   "source": [
    "np.save('../../input/processed/X_norm.npy',X_norm)"
   ]
  },
  {
   "cell_type": "code",
   "execution_count": 9,
   "metadata": {},
   "outputs": [],
   "source": [
    "np.save('../../input/processed/y.npy',y)"
   ]
  },
  {
   "cell_type": "code",
   "execution_count": 11,
   "metadata": {},
   "outputs": [],
   "source": [
    "submission = WaveDataset(\"data/raw/\", \"data/raw/test_files.csv\")"
   ]
  },
  {
   "cell_type": "code",
   "execution_count": 16,
   "metadata": {},
   "outputs": [],
   "source": [
    "# get max len of the signals\n",
    "signal = []\n",
    "for i, (sig, label) in enumerate(submission):\n",
    "    signal.append(len(sig))"
   ]
  },
  {
   "cell_type": "code",
   "execution_count": 17,
   "metadata": {},
   "outputs": [],
   "source": [
    "# Inicialize S zeros array \n",
    "S = np.zeros([len(submission), np.max(signal)])\n",
    "y = []\n",
    "for i, (sig, label) in enumerate(submission):\n",
    "    S[i]= sig"
   ]
  },
  {
   "cell_type": "code",
   "execution_count": 18,
   "metadata": {},
   "outputs": [],
   "source": [
    "# Inicialize X zeros array \n",
    "S_norm = np.zeros([len(submission), np.max(signal)])\n",
    "for i, (sig, label) in enumerate(submission):\n",
    "    S_norm[i]= normalize(sig.reshape(1,-1))\n"
   ]
  },
  {
   "cell_type": "code",
   "execution_count": 19,
   "metadata": {},
   "outputs": [],
   "source": [
    "np.save('data/processed/submission.npy',S)"
   ]
  },
  {
   "cell_type": "code",
   "execution_count": 20,
   "metadata": {},
   "outputs": [],
   "source": [
    "np.save('data/processed/submission_norm.npy',S_norm)"
   ]
  }
 ],
 "metadata": {
  "kernelspec": {
   "display_name": "Signal (env)",
   "language": "python",
   "name": "signalenv"
  },
  "language_info": {
   "codemirror_mode": {
    "name": "ipython",
    "version": 3
   },
   "file_extension": ".py",
   "mimetype": "text/x-python",
   "name": "python",
   "nbconvert_exporter": "python",
   "pygments_lexer": "ipython3",
   "version": "3.7.3"
  }
 },
 "nbformat": 4,
 "nbformat_minor": 2
}
