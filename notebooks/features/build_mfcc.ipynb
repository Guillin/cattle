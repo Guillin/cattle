{
 "cells": [
  {
   "cell_type": "markdown",
   "metadata": {},
   "source": [
    "# BUILD MFCC"
   ]
  },
  {
   "cell_type": "code",
   "execution_count": 1,
   "metadata": {},
   "outputs": [],
   "source": [
    "import numpy as np\n",
    "import librosa\n",
    "import pandas as pd\n",
    "from sklearn import preprocessing\n",
    "from tqdm.notebook import trange, tqdm"
   ]
  },
  {
   "cell_type": "markdown",
   "metadata": {},
   "source": [
    "### GLOBAL VARIABLES"
   ]
  },
  {
   "cell_type": "code",
   "execution_count": 2,
   "metadata": {},
   "outputs": [],
   "source": [
    "INPUT_PATH = 'data/processed/X_slice.npy'\n",
    "OUTPUT_PATH = 'data/features/X_mfcc_002.npy'\n",
    "SR = 22050"
   ]
  },
  {
   "cell_type": "markdown",
   "metadata": {},
   "source": [
    "### FUNCTIONS"
   ]
  },
  {
   "cell_type": "code",
   "execution_count": 3,
   "metadata": {},
   "outputs": [],
   "source": [
    "def wav2mfcc(wave, sr, n_fft, hop_length, n_mfcc, max_pad_len, normalize, padding_mode, **kwargs):\n",
    "\n",
    "    #wave, sr = librosa.load(wav_file, mono=True)\n",
    "    \n",
    "    #if 0 < len(wave): # workaround: 0 length causes error\n",
    "    #    wave, _ = librosa.effects.trim(wave) # trim, top_db=default(60)\n",
    "\n",
    "    if normalize:\n",
    "        wave = librosa.util.normalize(wave) # normalizing data before mfcc\n",
    "\n",
    "    # making mfcc from signal\n",
    "    S = librosa.feature.mfcc(y=wave, sr=sr, n_fft=n_fft, hop_length=hop_length, n_mfcc=n_mfcc, **kwargs)\n",
    "\n",
    "    if max_pad_len:\n",
    "        if S.shape[1] > max_pad_len:\n",
    "            S = S[:,:max_pad_len]\n",
    "        else:\n",
    "            pad_width = max_pad_len - S.shape[1]\n",
    "            S = np.pad(S, pad_width=((0, 0), (0, pad_width)), mode=padding_mode)\n",
    "   \n",
    "    return S"
   ]
  },
  {
   "cell_type": "code",
   "execution_count": 4,
   "metadata": {},
   "outputs": [],
   "source": [
    "def gen_mfcc(input_path, output_path, sr, n_fft=2048, hop_length=512, n_mfcc=128, max_pad_len=None, normalize=True, padding_mode='constant', **kwargs):\n",
    "    \n",
    "    # Load wave files\n",
    "    wavfiles = np.load(input_path)\n",
    "    \n",
    "    # Init Mel vectors\n",
    "    X_mfcc = []\n",
    "    \n",
    "    for idx in trange(wavfiles.shape[0]):\n",
    "        X_mfcc.append(wav2mfcc(wavfiles[idx, :], sr, n_fft=n_fft, hop_length=hop_length, n_mfcc=n_mfcc, max_pad_len=max_pad_len, \n",
    "                             normalize=normalize, padding_mode=padding_mode, **kwargs))\n",
    "        pass\n",
    "    \n",
    "    X_mfcc = np.array(X_mfcc)\n",
    "    \n",
    "    # Saving Mels \n",
    "    np.save(output_path, X_mfcc)\n",
    "    \n",
    "    pass"
   ]
  },
  {
   "cell_type": "markdown",
   "metadata": {},
   "source": [
    "### RUNING"
   ]
  },
  {
   "cell_type": "code",
   "execution_count": 5,
   "metadata": {},
   "outputs": [
    {
     "data": {
      "application/vnd.jupyter.widget-view+json": {
       "model_id": "17c62160c17843d0b98ef23313289da1",
       "version_major": 2,
       "version_minor": 0
      },
      "text/plain": [
       "HBox(children=(IntProgress(value=0, max=1532), HTML(value='')))"
      ]
     },
     "metadata": {},
     "output_type": "display_data"
    },
    {
     "name": "stdout",
     "output_type": "stream",
     "text": [
      "\n"
     ]
    }
   ],
   "source": [
    "gen_mfcc(INPUT_PATH, OUTPUT_PATH, SR, n_fft=2048, hop_length=512, n_mfcc=60, normalize=True)"
   ]
  }
 ],
 "metadata": {
  "kernelspec": {
   "display_name": "Signal (env)",
   "language": "python",
   "name": "signalenv"
  },
  "language_info": {
   "codemirror_mode": {
    "name": "ipython",
    "version": 3
   },
   "file_extension": ".py",
   "mimetype": "text/x-python",
   "name": "python",
   "nbconvert_exporter": "python",
   "pygments_lexer": "ipython3",
   "version": "3.7.3"
  }
 },
 "nbformat": 4,
 "nbformat_minor": 2
}
