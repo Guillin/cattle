{
 "cells": [
  {
   "cell_type": "markdown",
   "metadata": {},
   "source": [
    "# BUILD MEL"
   ]
  },
  {
   "cell_type": "code",
   "execution_count": 1,
   "metadata": {},
   "outputs": [],
   "source": [
    "import numpy as np\n",
    "import librosa\n",
    "import pandas as pd\n",
    "from sklearn import preprocessing\n",
    "from tqdm.notebook import trange, tqdm"
   ]
  },
  {
   "cell_type": "markdown",
   "metadata": {},
   "source": [
    "### GLOBAL VARIABLES"
   ]
  },
  {
   "cell_type": "code",
   "execution_count": 2,
   "metadata": {},
   "outputs": [],
   "source": [
    "INPUT_PATH = 'data/processed/submission.npy'\n",
    "OUTPUT_PATH = 'data/features/submission_mel_005.npy'\n",
    "SR = 22050"
   ]
  },
  {
   "cell_type": "markdown",
   "metadata": {},
   "source": [
    "### FUNCTIONS"
   ]
  },
  {
   "cell_type": "code",
   "execution_count": 3,
   "metadata": {},
   "outputs": [],
   "source": [
    "def wave2mel(wave, sr, n_fft, hop_length, n_mels, max_pad_len, normalize, scaling, padding_mode, **kwargs):\n",
    "\n",
    "    #wave, sr = librosa.load(wav_file, mono=True)\n",
    "    \n",
    "    #if 0 < len(wave): # workaround: 0 length causes error\n",
    "    #    wave, _ = librosa.effects.trim(wave) # trim, top_db=default(60)\n",
    "\n",
    "    if normalize:\n",
    "        wave = librosa.util.normalize(wave) # normalizing data before mel\n",
    "\n",
    "    # making melspect from signal\n",
    "    S = librosa.feature.melspectrogram(y=wave, sr=sr, n_fft=n_fft, hop_length=hop_length, n_mels=n_mels, fmax=sr//2, **kwargs)\n",
    "\n",
    "    # scaling\n",
    "    if scaling:\n",
    "        S = preprocessing.scale(S, axis=1)\n",
    "\n",
    "    if max_pad_len:\n",
    "        if S.shape[1] > max_pad_len:\n",
    "            S = S[:,:max_pad_len]\n",
    "        else:\n",
    "            pad_width = max_pad_len - S.shape[1]\n",
    "            S = np.pad(S, pad_width=((0, 0), (0, pad_width)), mode=padding_mode)\n",
    "    \n",
    "    S = librosa.power_to_db(S)\n",
    "    S = S.astype(np.float32)\n",
    "   \n",
    "    return S"
   ]
  },
  {
   "cell_type": "code",
   "execution_count": 4,
   "metadata": {},
   "outputs": [],
   "source": [
    "def gen_mel(input_path, output_path, sr, n_fft=2048, hop_length=512, n_mels=128, max_pad_len=None, normalize=True, scaling=False, padding_mode='constant', **kwargs):\n",
    "    \n",
    "    # Load wave files\n",
    "    wavfiles = np.load(input_path)\n",
    "    \n",
    "    # Init Mel vectors\n",
    "    X_mel = []\n",
    "    \n",
    "    for idx in trange(wavfiles.shape[0]):\n",
    "        X_mel.append(wave2mel(wavfiles[idx, :], sr, n_fft=n_fft, hop_length=hop_length, n_mels=n_mels, max_pad_len=max_pad_len, \n",
    "                             normalize=normalize, scaling=scaling, padding_mode=padding_mode, **kwargs))\n",
    "        pass\n",
    "    \n",
    "    X_mel = np.array(X_mel)\n",
    "    \n",
    "    # Saving Mels \n",
    "    np.save(output_path, X_mel)\n",
    "    pass"
   ]
  },
  {
   "cell_type": "markdown",
   "metadata": {},
   "source": [
    "### RUNING"
   ]
  },
  {
   "cell_type": "code",
   "execution_count": 5,
   "metadata": {},
   "outputs": [
    {
     "data": {
      "application/vnd.jupyter.widget-view+json": {
       "model_id": "6c67616784a64df6af06edf1a6b20214",
       "version_major": 2,
       "version_minor": 0
      },
      "text/plain": [
       "HBox(children=(IntProgress(value=0, max=1551), HTML(value='')))"
      ]
     },
     "metadata": {},
     "output_type": "display_data"
    },
    {
     "name": "stdout",
     "output_type": "stream",
     "text": [
      "\n"
     ]
    }
   ],
   "source": [
    "gen_mel(INPUT_PATH, OUTPUT_PATH, SR, n_fft=441, hop_length=110, n_mels=35, scaling=True, normalize=True)"
   ]
  }
 ],
 "metadata": {
  "kernelspec": {
   "display_name": "Signal (env)",
   "language": "python",
   "name": "signalenv"
  },
  "language_info": {
   "codemirror_mode": {
    "name": "ipython",
    "version": 3
   },
   "file_extension": ".py",
   "mimetype": "text/x-python",
   "name": "python",
   "nbconvert_exporter": "python",
   "pygments_lexer": "ipython3",
   "version": "3.7.3"
  }
 },
 "nbformat": 4,
 "nbformat_minor": 2
}
