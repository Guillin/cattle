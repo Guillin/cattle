{
 "cells": [
  {
   "cell_type": "markdown",
   "metadata": {},
   "source": [
    "# BUILD CHROMA CQT"
   ]
  },
  {
   "cell_type": "code",
   "execution_count": 1,
   "metadata": {},
   "outputs": [],
   "source": [
    "import numpy as np\n",
    "import librosa\n",
    "import pandas as pd\n",
    "from sklearn import preprocessing\n",
    "from tqdm.notebook import trange, tqdm"
   ]
  },
  {
   "cell_type": "markdown",
   "metadata": {},
   "source": [
    "### GLOBAL VARIABLES"
   ]
  },
  {
   "cell_type": "code",
   "execution_count": 2,
   "metadata": {},
   "outputs": [],
   "source": [
    "INPUT_PATH = 'data/processed/submission.npy'\n",
    "OUTPUT_PATH = 'data/features/submission_chromacqt.npy'\n",
    "SR = 22050"
   ]
  },
  {
   "cell_type": "markdown",
   "metadata": {},
   "source": [
    "### FUNCTIONS"
   ]
  },
  {
   "cell_type": "code",
   "execution_count": 3,
   "metadata": {},
   "outputs": [],
   "source": [
    "def wave2mel(wave, sr, hop_length, max_pad_len, normalize, padding_mode):\n",
    "\n",
    "    #wave, sr = librosa.load(wav_file, mono=True)\n",
    "    \n",
    "    if 0 < len(wave): # workaround: 0 length causes error\n",
    "        wave, _ = librosa.effects.trim(wave) # trim, top_db=default(60)\n",
    "\n",
    "    if normalize:\n",
    "        wave = librosa.util.normalize(wave) # normalizing data before mfcc\n",
    "\n",
    "    # making melspect from signal\n",
    "    S = librosa.feature.chroma_cqt(y=wave, sr=sr, hop_length=hop_length)\n",
    "\n",
    "    if max_pad_len:\n",
    "        if S.shape[1] > max_pad_len:\n",
    "            S = S[:,:max_pad_len]\n",
    "        else:\n",
    "            pad_width = max_pad_len - S.shape[1]\n",
    "            S = np.pad(S, pad_width=((0, 0), (0, pad_width)), mode=padding_mode)\n",
    "\n",
    "   \n",
    "    return S"
   ]
  },
  {
   "cell_type": "code",
   "execution_count": 4,
   "metadata": {},
   "outputs": [],
   "source": [
    "def gen_chroma(input_path, output_path, sr, hop_length=512, max_pad_len=None, normalize=True, padding_mode='constant'):\n",
    "    \n",
    "    # Load wave files\n",
    "    wavfiles = np.load(input_path)\n",
    "    \n",
    "    # Init Mel vectors\n",
    "    X_chroma = []\n",
    "    \n",
    "    for idx in trange(wavfiles.shape[0]):\n",
    "        X_chroma.append(wave2mel(wavfiles[idx, :], sr, hop_length=hop_length, max_pad_len=max_pad_len, \n",
    "                             normalize=normalize, padding_mode=padding_mode))\n",
    "        pass\n",
    "    \n",
    "    X_chroma = np.array(X_chroma)\n",
    "    \n",
    "    # Saving Mels \n",
    "    np.save(output_path, X_chroma)\n",
    "    \n",
    "    pass"
   ]
  },
  {
   "cell_type": "markdown",
   "metadata": {},
   "source": [
    "### RUNING"
   ]
  },
  {
   "cell_type": "code",
   "execution_count": 5,
   "metadata": {},
   "outputs": [
    {
     "data": {
      "application/vnd.jupyter.widget-view+json": {
       "model_id": "d53d2d3e6573442c88a0c65f2c3eda44",
       "version_major": 2,
       "version_minor": 0
      },
      "text/plain": [
       "HBox(children=(IntProgress(value=0, max=1551), HTML(value='')))"
      ]
     },
     "metadata": {},
     "output_type": "display_data"
    },
    {
     "name": "stdout",
     "output_type": "stream",
     "text": [
      "\n"
     ]
    }
   ],
   "source": [
    "gen_chroma(INPUT_PATH, OUTPUT_PATH, SR, hop_length=512, normalize=False)"
   ]
  }
 ],
 "metadata": {
  "kernelspec": {
   "display_name": "Signal (env)",
   "language": "python",
   "name": "signalenv"
  },
  "language_info": {
   "codemirror_mode": {
    "name": "ipython",
    "version": 3
   },
   "file_extension": ".py",
   "mimetype": "text/x-python",
   "name": "python",
   "nbconvert_exporter": "python",
   "pygments_lexer": "ipython3",
   "version": "3.7.3"
  }
 },
 "nbformat": 4,
 "nbformat_minor": 2
}
